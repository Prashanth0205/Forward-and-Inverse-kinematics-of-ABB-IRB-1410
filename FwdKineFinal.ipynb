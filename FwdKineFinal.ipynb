{
 "cells": [
  {
   "cell_type": "code",
   "execution_count": 3,
   "metadata": {
    "id": "Bwf1fh1_7sBx"
   },
   "outputs": [],
   "source": [
    "import numpy as np\n",
    "import matplotlib.pyplot as plt"
   ]
  },
  {
   "cell_type": "code",
   "execution_count": 7,
   "metadata": {
    "id": "ZxQKFRXd7sBy"
   },
   "outputs": [],
   "source": [
    "class Forward_Kinematics:\n",
    "    def __init__(self,joints):\n",
    "        self.j = joints\n",
    "    \n",
    "    def homo_Mat(self,dh_par):\n",
    "        return np.array([[np.cos(np.deg2rad(dh_par[3])),-np.sin(np.deg2rad(dh_par[3]))*np.cos(np.deg2rad(dh_par[1])),np.sin(np.deg2rad(dh_par[3]))*np.sin(np.deg2rad(dh_par[1])),dh_par[0]*np.cos(np.deg2rad(dh_par[3]))],\n",
    "                        [np.sin(np.deg2rad(dh_par[3])),np.cos(np.deg2rad(dh_par[3]))*np.cos(np.deg2rad(dh_par[1])),-np.cos(np.deg2rad(dh_par[3]))*np.sin(np.deg2rad(dh_par[1])),dh_par[0]*np.sin(np.deg2rad(dh_par[3]))],\n",
    "                        [0,np.sin(np.deg2rad(dh_par[1])),np.cos(np.deg2rad(dh_par[1])),(dh_par[2])],\n",
    "                        [0,0,0,1]])\n",
    "    \"\"\"\n",
    "    def rotateX(self,theta):\n",
    "        return np.array([[1,0,0,0],[0,np.cos(np.deg2rad(theta)),-np.sin(np.deg2rad(theta)),0],[0,np.sin(np.deg2rad(theta)),np.cos(np.deg2rad(theta)),0],[0,0,0,1]])\n",
    "    \n",
    "    def rotateZ(self,theta):\n",
    "        return np.array([[np.cos(np.deg2rad(theta)),-np.sin(np.deg2rad(theta)),0,0],[np.sin(np.deg2rad(theta)),np.cos(np.deg2rad(theta)),0,0],[0,0,1,0],[0,0,0,1]])\n",
    "    \n",
    "    def TransX(self,val):\n",
    "        mat = np.identity(4)\n",
    "        mat[0][3]=val\n",
    "        return mat\n",
    "    \n",
    "    def TransZ(self,val):\n",
    "        mat = np.identity(4)\n",
    "        mat[2][3]=val\n",
    "        return mat\n",
    "    \n",
    "    def homoMat(self):\n",
    "        dh_par = self.DH_Parameters()\n",
    "        return np.matmul(np.matmul(self.TransZ(dh_par[2]),self.rotateZ(dh_par[3])),np.matmul(self.TransX(dh_par[0]),self.rotateX(dh_par[1])))\n",
    "    \"\"\"\n",
    "    \"\"\"The above functions can be used as a replacement for below homo_Mat function \"\"\"\n",
    "        \n",
    "    def finPos(self,mat):\n",
    "        print(f\"DH Parameters: \\n {mat}\" )\n",
    "        finHomo = np.identity(4)\n",
    "        homo_mat = np.zeros((4,4))\n",
    "        for i in range(self.j):\n",
    "            homo_mat = self.homo_Mat(mat[i,:]) # ----> Call this for homo_Mat\n",
    "            finHomo = np.matmul(finHomo,homo_mat)\n",
    "        \n",
    "        return np.round(finHomo,3)"
   ]
  },
  {
   "cell_type": "markdown",
   "metadata": {
    "id": "FNB1v22q7sBz"
   },
   "source": [
    "## For ABB_IRB_1410 "
   ]
  },
  {
   "cell_type": "code",
   "execution_count": 23,
   "metadata": {
    "id": "GYNdINYL7sBz"
   },
   "outputs": [],
   "source": [
    "IRB_1410 = np.array([[0, 90, 475, 30],[150, 0, 0, 60],[600, 90, 0, 60] ,[120, -90, 720, 30],[0, 90, 0, 90],[0, 0, 85, 60]])"
   ]
  },
  {
   "cell_type": "code",
   "execution_count": 28,
   "metadata": {},
   "outputs": [],
   "source": [
    "total_joints = 6\n",
    "if -170<=IRB_1410[0][3]<=170 and  -70<=IRB_1410[1][3]<=70 and -65<=IRB_1410[2][3]<=65 and -150<=IRB_1410[3][3]<=150 and -115<=IRB_1410[4][3]<=115 and -300<=IRB_1410[5][3]<=300:\n",
    "    model2 = Forward_Kinematics(total_joints)"
   ]
  },
  {
   "cell_type": "code",
   "execution_count": 29,
   "metadata": {
    "colab": {
     "base_uri": "https://localhost:8080/"
    },
    "executionInfo": {
     "elapsed": 813,
     "status": "ok",
     "timestamp": 1607578148994,
     "user": {
      "displayName": "Arrun Sivasubramanian",
      "photoUrl": "https://lh3.googleusercontent.com/a-/AOh14GjSWIO-QF__sallw7NcFUUpdE7GNq6EQTJqS9T36A=s64",
      "userId": "17543593515242753997"
     },
     "user_tz": -330
    },
    "id": "uwtvouaL7sBz",
    "outputId": "41a876bc-c6c9-4b8b-8241-ecf3e2adc06f"
   },
   "outputs": [
    {
     "name": "stdout",
     "output_type": "stream",
     "text": [
      "DH Parameters: \n",
      " [[  0  90 475  30]\n",
      " [150   0   0  60]\n",
      " [600  90   0  60]\n",
      " [120 -90 720  30]\n",
      " [  0  90   0  90]\n",
      " [  0   0  85  60]]\n"
     ]
    },
    {
     "data": {
      "text/plain": [
       "array([[ 1.870000e-01,  9.740000e-01, -1.250000e-01,  3.195190e+02],\n",
       "       [-7.580000e-01,  6.200000e-02, -6.500000e-01,  6.611800e+01],\n",
       "       [-6.250000e-01,  2.170000e-01,  7.500000e-01,  1.638269e+03],\n",
       "       [ 0.000000e+00,  0.000000e+00,  0.000000e+00,  1.000000e+00]])"
      ]
     },
     "execution_count": 29,
     "metadata": {},
     "output_type": "execute_result"
    }
   ],
   "source": [
    "model2.finPos(IRB_1410)"
   ]
  },
  {
   "cell_type": "markdown",
   "metadata": {
    "id": "VPsU4zxZ7sB0"
   },
   "source": [
    "## Generic Case"
   ]
  },
  {
   "cell_type": "code",
   "execution_count": null,
   "metadata": {
    "id": "FyrevHjF7sB0",
    "outputId": "9d2e9edb-070a-4c8f-9386-08369517d46b"
   },
   "outputs": [
    {
     "name": "stdin",
     "output_type": "stream",
     "text": [
      "Enter total number of joints in Manipulator:  6\n"
     ]
    }
   ],
   "source": [
    "total_joints = int(input(\"Enter total number of joints in Manipulator: \"))\n",
    "model3 = Forward_Kinematics(total_joints)"
   ]
  },
  {
   "cell_type": "code",
   "execution_count": null,
   "metadata": {
    "id": "ObD7bDIZ7sB0",
    "outputId": "9aa829c2-5218-4b1a-99e3-61badfbc77f7"
   },
   "outputs": [
    {
     "name": "stdout",
     "output_type": "stream",
     "text": [
      "Enter DH Parameters for Joint 0:\n"
     ]
    },
    {
     "name": "stdin",
     "output_type": "stream",
     "text": [
      " 180\n",
      " 90\n",
      " 400\n",
      " 0\n"
     ]
    },
    {
     "name": "stdout",
     "output_type": "stream",
     "text": [
      "Enter DH Parameters for Joint 1:\n"
     ]
    },
    {
     "name": "stdin",
     "output_type": "stream",
     "text": [
      " 600\n",
      " 180\n",
      " 135\n",
      " 0\n"
     ]
    },
    {
     "name": "stdout",
     "output_type": "stream",
     "text": [
      "Enter DH Parameters for Joint 2:\n"
     ]
    },
    {
     "name": "stdin",
     "output_type": "stream",
     "text": [
      " 120\n",
      " -90\n",
      " 135\n",
      " 0\n"
     ]
    },
    {
     "name": "stdout",
     "output_type": "stream",
     "text": [
      "Enter DH Parameters for Joint 3:\n"
     ]
    },
    {
     "name": "stdin",
     "output_type": "stream",
     "text": [
      " 0\n",
      " 90\n",
      " 620\n",
      " 0\n"
     ]
    },
    {
     "name": "stdout",
     "output_type": "stream",
     "text": [
      "Enter DH Parameters for Joint 4:\n"
     ]
    },
    {
     "name": "stdin",
     "output_type": "stream",
     "text": [
      " 0\n",
      " -90\n",
      " 0\n",
      " 0\n"
     ]
    },
    {
     "name": "stdout",
     "output_type": "stream",
     "text": [
      "Enter DH Parameters for Joint 5:\n"
     ]
    },
    {
     "name": "stdin",
     "output_type": "stream",
     "text": [
      " 0\n",
      " 0\n",
      " 115\n",
      " 0\n"
     ]
    },
    {
     "name": "stdout",
     "output_type": "stream",
     "text": [
      "Dh Parameters for Model: \n",
      " [[180.  90. 400.   0.]\n",
      " [600. 180. 135.   0.]\n",
      " [120. -90. 135.   0.]\n",
      " [  0.  90. 620.   0.]\n",
      " [  0. -90.   0.   0.]\n",
      " [  0.   0. 115.   0.]]\n"
     ]
    }
   ],
   "source": [
    "DH_params = np.zeros((total_joints,4))\n",
    "for i in range(total_joints):\n",
    "    print(f\"Enter DH Parameters for Joint {i}:\")\n",
    "    for j in range(4):\n",
    "        DH_params[i][j] = float(input())\n",
    "        \n",
    "print(\"Dh Parameters for Model: \\n\",DH_params)"
   ]
  },
  {
   "cell_type": "code",
   "execution_count": null,
   "metadata": {
    "id": "UOALD5JH7sB0",
    "outputId": "8f35bd00-bdb6-4ef5-b676-7fc751912e8f"
   },
   "outputs": [
    {
     "name": "stdout",
     "output_type": "stream",
     "text": [
      "DH Parameters: \n",
      " [[180.  90. 400.   0.]\n",
      " [600. 180. 135.   0.]\n",
      " [120. -90. 135.   0.]\n",
      " [  0.  90. 620.   0.]\n",
      " [  0. -90.   0.   0.]\n",
      " [  0.   0. 115.   0.]]\n"
     ]
    },
    {
     "data": {
      "text/plain": [
       "array([[   1.,    0.,    0.,  900.],\n",
       "       [   0.,   -1.,   -0.,   -0.],\n",
       "       [   0.,    0.,   -1., -335.],\n",
       "       [   0.,    0.,    0.,    1.]])"
      ]
     },
     "execution_count": 11,
     "metadata": {
      "tags": []
     },
     "output_type": "execute_result"
    }
   ],
   "source": [
    "model3.finPos(DH_params) #taken for KUKA KR -5 from SK Saha's Book: Page 172"
   ]
  }
 ],
 "metadata": {
  "colab": {
   "collapsed_sections": [],
   "name": "FwdKineFinal.ipynb",
   "provenance": []
  },
  "kernelspec": {
   "display_name": "Python 3",
   "language": "python",
   "name": "python3"
  },
  "language_info": {
   "codemirror_mode": {
    "name": "ipython",
    "version": 3
   },
   "file_extension": ".py",
   "mimetype": "text/x-python",
   "name": "python",
   "nbconvert_exporter": "python",
   "pygments_lexer": "ipython3",
   "version": "3.8.6"
  }
 },
 "nbformat": 4,
 "nbformat_minor": 1
}
